{
 "cells": [
  {
   "cell_type": "code",
   "execution_count": 1,
   "metadata": {
    "ExecuteTime": {
     "end_time": "2019-10-24T15:38:00.477724Z",
     "start_time": "2019-10-24T15:37:57.144420Z"
    }
   },
   "outputs": [],
   "source": [
    "%run ./utils.ipynb"
   ]
  },
  {
   "cell_type": "markdown",
   "metadata": {},
   "source": [
    "----------"
   ]
  },
  {
   "cell_type": "markdown",
   "metadata": {},
   "source": [
    "**Train:**\n",
    "-------------"
   ]
  },
  {
   "cell_type": "code",
   "execution_count": 2,
   "metadata": {
    "ExecuteTime": {
     "start_time": "2019-10-24T15:38:02.635Z"
    }
   },
   "outputs": [
    {
     "name": "stdout",
     "output_type": "stream",
     "text": [
      "(12568, 5)\n"
     ]
    },
    {
     "data": {
      "text/html": [
       "<div>\n",
       "<style scoped>\n",
       "    .dataframe tbody tr th:only-of-type {\n",
       "        vertical-align: middle;\n",
       "    }\n",
       "\n",
       "    .dataframe tbody tr th {\n",
       "        vertical-align: top;\n",
       "    }\n",
       "\n",
       "    .dataframe thead th {\n",
       "        text-align: right;\n",
       "    }\n",
       "</style>\n",
       "<table border=\"1\" class=\"dataframe\">\n",
       "  <thead>\n",
       "    <tr style=\"text-align: right;\">\n",
       "      <th></th>\n",
       "      <th>ImageId</th>\n",
       "      <th>EP1</th>\n",
       "      <th>EP2</th>\n",
       "      <th>EP3</th>\n",
       "      <th>EP4</th>\n",
       "    </tr>\n",
       "  </thead>\n",
       "  <tbody>\n",
       "    <tr>\n",
       "      <th>0</th>\n",
       "      <td>706efa6c9.jpg</td>\n",
       "      <td>NaN</td>\n",
       "      <td>NaN</td>\n",
       "      <td>NaN</td>\n",
       "      <td>NaN</td>\n",
       "    </tr>\n",
       "    <tr>\n",
       "      <th>1</th>\n",
       "      <td>c4260033a.jpg</td>\n",
       "      <td>NaN</td>\n",
       "      <td>NaN</td>\n",
       "      <td>NaN</td>\n",
       "      <td>NaN</td>\n",
       "    </tr>\n",
       "    <tr>\n",
       "      <th>2</th>\n",
       "      <td>94a5728a6.jpg</td>\n",
       "      <td>NaN</td>\n",
       "      <td>NaN</td>\n",
       "      <td>NaN</td>\n",
       "      <td>NaN</td>\n",
       "    </tr>\n",
       "    <tr>\n",
       "      <th>3</th>\n",
       "      <td>8f3044c4f.jpg</td>\n",
       "      <td>NaN</td>\n",
       "      <td>NaN</td>\n",
       "      <td>244994 95 245250 190 245506 189 245762 188 246...</td>\n",
       "      <td>NaN</td>\n",
       "    </tr>\n",
       "    <tr>\n",
       "      <th>4</th>\n",
       "      <td>f74f33985.jpg</td>\n",
       "      <td>NaN</td>\n",
       "      <td>NaN</td>\n",
       "      <td>46680 8 46928 18 47181 23 47434 27 47686 33 47...</td>\n",
       "      <td>NaN</td>\n",
       "    </tr>\n",
       "  </tbody>\n",
       "</table>\n",
       "</div>"
      ],
      "text/plain": [
       "         ImageId  EP1  EP2                                                EP3  \\\n",
       "0  706efa6c9.jpg  NaN  NaN                                                NaN   \n",
       "1  c4260033a.jpg  NaN  NaN                                                NaN   \n",
       "2  94a5728a6.jpg  NaN  NaN                                                NaN   \n",
       "3  8f3044c4f.jpg  NaN  NaN  244994 95 245250 190 245506 189 245762 188 246...   \n",
       "4  f74f33985.jpg  NaN  NaN  46680 8 46928 18 47181 23 47434 27 47686 33 47...   \n",
       "\n",
       "   EP4  \n",
       "0  NaN  \n",
       "1  NaN  \n",
       "2  NaN  \n",
       "3  NaN  \n",
       "4  NaN  "
      ]
     },
     "execution_count": 2,
     "metadata": {},
     "output_type": "execute_result"
    }
   ],
   "source": [
    "train_df = pd.read_csv('../input/severstal-steel-defect-detection/train.csv')\n",
    "train_df['ImageId'] = train_df['ImageId_ClassId'].apply(lambda x: x.split('_')[0])\n",
    "train_df['ClassId'] = train_df['ImageId_ClassId'].apply(lambda x: x.split('_')[1])\n",
    "\n",
    "encoded_pixels_class_1 = []\n",
    "encoded_pixels_class_2 = []\n",
    "encoded_pixels_class_3 = []\n",
    "encoded_pixels_class_4 = []\n",
    "train_df1 = train_df[train_df['ClassId']=='1']\n",
    "train_df2 = train_df[train_df['ClassId']=='2']\n",
    "train_df3 = train_df[train_df['ClassId']=='3']\n",
    "train_df4 = train_df[train_df['ClassId']=='4']\n",
    "for image in set(train_df1['ImageId'].values.tolist()):\n",
    "    encoded_pixels_class_1.append(train_df1[train_df1['ImageId']==image]['EncodedPixels'].values.tolist())\n",
    "for image in set(train_df2['ImageId'].values.tolist()):\n",
    "    encoded_pixels_class_2.append(train_df2[train_df2['ImageId']==image]['EncodedPixels'].values.tolist())\n",
    "for image in set(train_df3['ImageId'].values.tolist()):\n",
    "    encoded_pixels_class_3.append(train_df3[train_df3['ImageId']==image]['EncodedPixels'].values.tolist())\n",
    "for image in set(train_df4['ImageId'].values.tolist()):\n",
    "    encoded_pixels_class_4.append(train_df4[train_df4['ImageId']==image]['EncodedPixels'].values.tolist())\n",
    "    \n",
    "unique_images = list(set(train_df['ImageId'].values.tolist()))\n",
    "data = {'ImageId': unique_images,\n",
    "        'EP1': [item for sublist in encoded_pixels_class_1 for item in sublist],\n",
    "        'EP2': [item for sublist in encoded_pixels_class_2 for item in sublist],\n",
    "        'EP3': [item for sublist in encoded_pixels_class_3 for item in sublist],\n",
    "        'EP4': [item for sublist in encoded_pixels_class_4 for item in sublist]}\n",
    "train_df = pd.DataFrame(data)\n",
    "print(train_df.shape)\n",
    "train_df.head()"
   ]
  },
  {
   "cell_type": "code",
   "execution_count": 3,
   "metadata": {},
   "outputs": [],
   "source": [
    "train_df.to_csv('../output/train_df.csv', index = False)"
   ]
  },
  {
   "cell_type": "code",
   "execution_count": 14,
   "metadata": {},
   "outputs": [],
   "source": [
    "def create_tiles(code, base, inference=False):\n",
    "    new_ids = []\n",
    "    new_EP1 = []\n",
    "    new_EP2 = []\n",
    "    new_EP3 = []\n",
    "    new_EP4 = []\n",
    "    \n",
    "    # create image tiles\n",
    "    path = f'{base}/{code}'\n",
    "    tmp_code = code.replace('.jpg', '')\n",
    "    img = cv2.imread(path)\n",
    "    #img = img[:,32:-32]\n",
    "    tiles = [img[x:x+256,y:y+400] for x in range(0,img.shape[0],256) for y in range(0,img.shape[1],400)]\n",
    "    for i, tile in enumerate(tiles):\n",
    "        tile = cv2.cvtColor(tile, cv2.COLOR_BGR2RGB)\n",
    "        path = code.replace('.jpg', '')\n",
    "        cv2.imwrite(f'{train_path}/{path}_{i}.png', tile)\n",
    "        new_ids.append(f'{tmp_code}_{i}.png')\n",
    "    \n",
    "    if not inference:\n",
    "        # create mask tiles\n",
    "        image_df = train_df[train_df['ImageId'] == code]\n",
    "        rles = [image_df['EP1'].values[0],image_df['EP2'].values[0],image_df['EP3'].values[0],image_df['EP4'].values[0]]\n",
    "        masks = build_masks(rles, (256, 1600)).astype(np.uint8)\n",
    "        #masks = masks[:,32:-32]\n",
    "        tiles = [np.expand_dims(masks[x:x+256,y:y+400], axis=-1) for x in range(0,masks.shape[0],256) for y in range(0,masks.shape[1],400)]\n",
    "        for i, tile in enumerate(tiles):\n",
    "            tile = tile.flatten()\n",
    "            tmp_rles = np.stack([np.reshape(np.where(tile==label, 1, 0), (256,400)) for label in range(5)], axis=2)\n",
    "            tmp_rles = build_rles(tmp_rles)\n",
    "            new_EP1.append(tmp_rles[0])\n",
    "            new_EP2.append(tmp_rles[1])\n",
    "            new_EP3.append(tmp_rles[2])\n",
    "            new_EP4.append(tmp_rles[3])\n",
    "\n",
    "        return new_ids, new_EP1, new_EP2, new_EP3, new_EP4\n",
    "    \n",
    "    else:\n",
    "        return new_ids\n",
    "\n",
    "def validate_path(path):\n",
    "    if not os.path.exists(path):\n",
    "        os.makedirs(path)"
   ]
  },
  {
   "cell_type": "code",
   "execution_count": null,
   "metadata": {},
   "outputs": [],
   "source": [
    "train_path = '../output/class_train'\n",
    "validate_path(train_path)\n",
    "\n",
    "ids = []\n",
    "EP1 = []\n",
    "EP2 = []\n",
    "EP3 = []\n",
    "EP4 = []\n",
    "for i, code in enumerate(tqdm(train_df['ImageId'])):\n",
    "    new_ids, new_EP1, new_EP2, new_EP3, new_EP4 = create_tiles(\n",
    "        code,\n",
    "        base='../input/severstal-steel-defect-detection/train_images'\n",
    "    )\n",
    "    ids += new_ids\n",
    "    EP1 += new_EP1\n",
    "    EP2 += new_EP2 \n",
    "    EP3 += new_EP3 \n",
    "    EP4 += new_EP4"
   ]
  },
  {
   "cell_type": "code",
   "execution_count": 8,
   "metadata": {},
   "outputs": [
    {
     "ename": "NameError",
     "evalue": "name 'ids' is not defined",
     "output_type": "error",
     "traceback": [
      "\u001b[0;31m---------------------------------------------------------------------------\u001b[0m",
      "\u001b[0;31mNameError\u001b[0m                                 Traceback (most recent call last)",
      "\u001b[0;32m<ipython-input-8-96daf1e80b5e>\u001b[0m in \u001b[0;36m<module>\u001b[0;34m\u001b[0m\n\u001b[0;32m----> 1\u001b[0;31m \u001b[0mdata\u001b[0m \u001b[0;34m=\u001b[0m \u001b[0;34m{\u001b[0m\u001b[0;34m'ImageId'\u001b[0m\u001b[0;34m:\u001b[0m \u001b[0mids\u001b[0m\u001b[0;34m,\u001b[0m \u001b[0;34m'EP1'\u001b[0m\u001b[0;34m:\u001b[0m \u001b[0mEP1\u001b[0m\u001b[0;34m,\u001b[0m \u001b[0;34m'EP2'\u001b[0m\u001b[0;34m:\u001b[0m \u001b[0mEP2\u001b[0m\u001b[0;34m,\u001b[0m \u001b[0;34m'EP3'\u001b[0m\u001b[0;34m:\u001b[0m \u001b[0mEP3\u001b[0m\u001b[0;34m,\u001b[0m \u001b[0;34m'EP4'\u001b[0m\u001b[0;34m:\u001b[0m \u001b[0mEP4\u001b[0m\u001b[0;34m}\u001b[0m\u001b[0;34m\u001b[0m\u001b[0;34m\u001b[0m\u001b[0m\n\u001b[0m\u001b[1;32m      2\u001b[0m \u001b[0mtrain_df\u001b[0m \u001b[0;34m=\u001b[0m \u001b[0mpd\u001b[0m\u001b[0;34m.\u001b[0m\u001b[0mDataFrame\u001b[0m\u001b[0;34m(\u001b[0m\u001b[0mdata\u001b[0m\u001b[0;34m)\u001b[0m\u001b[0;34m\u001b[0m\u001b[0;34m\u001b[0m\u001b[0m\n\u001b[1;32m      3\u001b[0m \u001b[0mprint\u001b[0m\u001b[0;34m(\u001b[0m\u001b[0mlen\u001b[0m\u001b[0;34m(\u001b[0m\u001b[0mtrain_df\u001b[0m\u001b[0;34m)\u001b[0m\u001b[0;34m)\u001b[0m\u001b[0;34m\u001b[0m\u001b[0;34m\u001b[0m\u001b[0m\n\u001b[1;32m      4\u001b[0m \u001b[0mtrain_df\u001b[0m\u001b[0;34m.\u001b[0m\u001b[0mhead\u001b[0m\u001b[0;34m(\u001b[0m\u001b[0;34m)\u001b[0m\u001b[0;34m\u001b[0m\u001b[0;34m\u001b[0m\u001b[0m\n",
      "\u001b[0;31mNameError\u001b[0m: name 'ids' is not defined"
     ]
    }
   ],
   "source": [
    "data = {'ImageId': ids, 'EP1': EP1, 'EP2': EP2, 'EP3': EP3, 'EP4': EP4}\n",
    "train_df = pd.DataFrame(data)\n",
    "print(len(train_df))\n",
    "train_df.head()"
   ]
  },
  {
   "cell_type": "code",
   "execution_count": null,
   "metadata": {},
   "outputs": [],
   "source": [
    "train_df.to_csv('../output/train_df_crops.csv', index = False)"
   ]
  },
  {
   "cell_type": "markdown",
   "metadata": {},
   "source": [
    "**Test:**\n",
    "-------------"
   ]
  },
  {
   "cell_type": "code",
   "execution_count": 4,
   "metadata": {},
   "outputs": [
    {
     "name": "stdout",
     "output_type": "stream",
     "text": [
      "(7204, 4)\n"
     ]
    },
    {
     "data": {
      "text/html": [
       "<div>\n",
       "<style scoped>\n",
       "    .dataframe tbody tr th:only-of-type {\n",
       "        vertical-align: middle;\n",
       "    }\n",
       "\n",
       "    .dataframe tbody tr th {\n",
       "        vertical-align: top;\n",
       "    }\n",
       "\n",
       "    .dataframe thead th {\n",
       "        text-align: right;\n",
       "    }\n",
       "</style>\n",
       "<table border=\"1\" class=\"dataframe\">\n",
       "  <thead>\n",
       "    <tr style=\"text-align: right;\">\n",
       "      <th></th>\n",
       "      <th>ImageId_ClassId</th>\n",
       "      <th>EncodedPixels</th>\n",
       "      <th>ImageId</th>\n",
       "      <th>ClassId</th>\n",
       "    </tr>\n",
       "  </thead>\n",
       "  <tbody>\n",
       "    <tr>\n",
       "      <th>0</th>\n",
       "      <td>004f40c73.jpg_1</td>\n",
       "      <td>1 1</td>\n",
       "      <td>004f40c73.jpg</td>\n",
       "      <td>1</td>\n",
       "    </tr>\n",
       "    <tr>\n",
       "      <th>1</th>\n",
       "      <td>004f40c73.jpg_2</td>\n",
       "      <td>1 1</td>\n",
       "      <td>004f40c73.jpg</td>\n",
       "      <td>2</td>\n",
       "    </tr>\n",
       "    <tr>\n",
       "      <th>2</th>\n",
       "      <td>004f40c73.jpg_3</td>\n",
       "      <td>1 1</td>\n",
       "      <td>004f40c73.jpg</td>\n",
       "      <td>3</td>\n",
       "    </tr>\n",
       "    <tr>\n",
       "      <th>3</th>\n",
       "      <td>004f40c73.jpg_4</td>\n",
       "      <td>1 1</td>\n",
       "      <td>004f40c73.jpg</td>\n",
       "      <td>4</td>\n",
       "    </tr>\n",
       "    <tr>\n",
       "      <th>4</th>\n",
       "      <td>006f39c41.jpg_1</td>\n",
       "      <td>1 1</td>\n",
       "      <td>006f39c41.jpg</td>\n",
       "      <td>1</td>\n",
       "    </tr>\n",
       "  </tbody>\n",
       "</table>\n",
       "</div>"
      ],
      "text/plain": [
       "   ImageId_ClassId EncodedPixels        ImageId ClassId\n",
       "0  004f40c73.jpg_1           1 1  004f40c73.jpg       1\n",
       "1  004f40c73.jpg_2           1 1  004f40c73.jpg       2\n",
       "2  004f40c73.jpg_3           1 1  004f40c73.jpg       3\n",
       "3  004f40c73.jpg_4           1 1  004f40c73.jpg       4\n",
       "4  006f39c41.jpg_1           1 1  006f39c41.jpg       1"
      ]
     },
     "execution_count": 4,
     "metadata": {},
     "output_type": "execute_result"
    }
   ],
   "source": [
    "test_df = pd.read_csv('../input/severstal-steel-defect-detection/sample_submission.csv')\n",
    "test_df['ImageId'] = test_df['ImageId_ClassId'].apply(lambda x: x.split('_')[0])\n",
    "test_df['ClassId'] = test_df['ImageId_ClassId'].apply(lambda x: x.split('_')[1])\n",
    "print(test_df.shape)\n",
    "test_df.head()"
   ]
  },
  {
   "cell_type": "code",
   "execution_count": 5,
   "metadata": {},
   "outputs": [],
   "source": [
    "test_df.to_csv('../output/test_df.csv', index = False)"
   ]
  },
  {
   "cell_type": "code",
   "execution_count": 16,
   "metadata": {},
   "outputs": [
    {
     "data": {
      "application/vnd.jupyter.widget-view+json": {
       "model_id": "63a2621e1a74479fb545569df7b6aa73",
       "version_major": 2,
       "version_minor": 0
      },
      "text/plain": [
       "HBox(children=(IntProgress(value=0, max=7204), HTML(value='')))"
      ]
     },
     "metadata": {},
     "output_type": "display_data"
    },
    {
     "name": "stdout",
     "output_type": "stream",
     "text": [
      "\n"
     ]
    }
   ],
   "source": [
    "train_path = '../output/class_test'\n",
    "validate_path(train_path)\n",
    "\n",
    "ids = []\n",
    "for i, code in enumerate(tqdm(test_df['ImageId'])):\n",
    "    new_ids = create_tiles(\n",
    "        code,\n",
    "        base='../input/severstal-steel-defect-detection/test_images',\n",
    "        inference = True\n",
    "    )\n",
    "    ids += new_ids"
   ]
  },
  {
   "cell_type": "code",
   "execution_count": 17,
   "metadata": {},
   "outputs": [
    {
     "name": "stdout",
     "output_type": "stream",
     "text": [
      "28816\n"
     ]
    },
    {
     "data": {
      "text/html": [
       "<div>\n",
       "<style scoped>\n",
       "    .dataframe tbody tr th:only-of-type {\n",
       "        vertical-align: middle;\n",
       "    }\n",
       "\n",
       "    .dataframe tbody tr th {\n",
       "        vertical-align: top;\n",
       "    }\n",
       "\n",
       "    .dataframe thead th {\n",
       "        text-align: right;\n",
       "    }\n",
       "</style>\n",
       "<table border=\"1\" class=\"dataframe\">\n",
       "  <thead>\n",
       "    <tr style=\"text-align: right;\">\n",
       "      <th></th>\n",
       "      <th>ImageId</th>\n",
       "    </tr>\n",
       "  </thead>\n",
       "  <tbody>\n",
       "    <tr>\n",
       "      <td>0</td>\n",
       "      <td>004f40c73_0.png</td>\n",
       "    </tr>\n",
       "    <tr>\n",
       "      <td>1</td>\n",
       "      <td>004f40c73_1.png</td>\n",
       "    </tr>\n",
       "    <tr>\n",
       "      <td>2</td>\n",
       "      <td>004f40c73_2.png</td>\n",
       "    </tr>\n",
       "    <tr>\n",
       "      <td>3</td>\n",
       "      <td>004f40c73_3.png</td>\n",
       "    </tr>\n",
       "    <tr>\n",
       "      <td>4</td>\n",
       "      <td>004f40c73_0.png</td>\n",
       "    </tr>\n",
       "  </tbody>\n",
       "</table>\n",
       "</div>"
      ],
      "text/plain": [
       "           ImageId\n",
       "0  004f40c73_0.png\n",
       "1  004f40c73_1.png\n",
       "2  004f40c73_2.png\n",
       "3  004f40c73_3.png\n",
       "4  004f40c73_0.png"
      ]
     },
     "execution_count": 17,
     "metadata": {},
     "output_type": "execute_result"
    }
   ],
   "source": [
    "data = {'ImageId': ids}\n",
    "test_df = pd.DataFrame(data)\n",
    "print(len(test_df))\n",
    "test_df.head()"
   ]
  },
  {
   "cell_type": "code",
   "execution_count": 18,
   "metadata": {},
   "outputs": [],
   "source": [
    "test_df.to_csv('../output/test_df_crops.csv', index = False)"
   ]
  },
  {
   "cell_type": "code",
   "execution_count": null,
   "metadata": {},
   "outputs": [],
   "source": []
  }
 ],
 "metadata": {
  "kernelspec": {
   "display_name": "Python 3",
   "language": "python",
   "name": "python3"
  },
  "language_info": {
   "codemirror_mode": {
    "name": "ipython",
    "version": 3
   },
   "file_extension": ".py",
   "mimetype": "text/x-python",
   "name": "python",
   "nbconvert_exporter": "python",
   "pygments_lexer": "ipython3",
   "version": "3.6.9"
  },
  "toc": {
   "base_numbering": 1,
   "nav_menu": {},
   "number_sections": true,
   "sideBar": true,
   "skip_h1_title": false,
   "title_cell": "Table of Contents",
   "title_sidebar": "Contents",
   "toc_cell": false,
   "toc_position": {},
   "toc_section_display": true,
   "toc_window_display": false
  },
  "varInspector": {
   "cols": {
    "lenName": 16,
    "lenType": 16,
    "lenVar": 40
   },
   "kernels_config": {
    "python": {
     "delete_cmd_postfix": "",
     "delete_cmd_prefix": "del ",
     "library": "var_list.py",
     "varRefreshCmd": "print(var_dic_list())"
    },
    "r": {
     "delete_cmd_postfix": ") ",
     "delete_cmd_prefix": "rm(",
     "library": "var_list.r",
     "varRefreshCmd": "cat(var_dic_list()) "
    }
   },
   "types_to_exclude": [
    "module",
    "function",
    "builtin_function_or_method",
    "instance",
    "_Feature"
   ],
   "window_display": false
  }
 },
 "nbformat": 4,
 "nbformat_minor": 4
}
